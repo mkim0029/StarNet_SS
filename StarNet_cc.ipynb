{
 "cells": [
  {
   "cell_type": "markdown",
   "id": "06ec9f6c-43fd-4afe-8265-0bf53e4cf31c",
   "metadata": {},
   "source": [
    "# Sratch vs. project\n",
    "\n",
    "Within Alliance, you have a scratch and project directory. I typically use the scratch directory because the data loading is faster. However, be aware that unused files get deleted every 60 days or so. Therefore, save any useful files in either the project directory or copy them to canfar.\n"
   ]
  },
  {
   "cell_type": "markdown",
   "id": "aeffe32e-9ba4-416c-b9b9-8afe02e72ba6",
   "metadata": {},
   "source": [
    "# Setup virtual environment\n",
    "\n",
    "Create a virtual environment in your project directory:\n",
    "\n",
    "`module load python/3.9.6`\n",
    "\n",
    "`python -m venv /home/wiltonf/project/wiltonf/torchnet`\n",
    "\n",
    "Load the new environment:\n",
    "\n",
    "`source /home/wiltonf/project/wiltonf/torchnet/bin/activate`\n",
    "\n",
    "`module load hdf5/1.10.6`\n",
    "\n",
    "Install any necessary packages in this environment:\n",
    "\n",
    "`pip install torch torchvision torchsummary`\n",
    "\n",
    "`pip install h5py seaborn`"
   ]
  },
  {
   "cell_type": "markdown",
   "id": "8ba66d83-9c8e-4db1-91ed-2136e29e9cbe",
   "metadata": {},
   "source": [
    "## Training the Network\n",
    "\n",
    "### Option 1\n",
    "\n",
    "1. The model architecture and hyper-parameters are set within configuration file in [the config directory](./configs). For instance, I have already created the [original configuration file](./configs/starnet_1.ini). You can copy this file under a new name and change whichever parameters you choose.\n",
    "  \n",
    "2. If you were to create a config file called `starnet_2.ini` in Step 1, this model could be trained by running `python train_starnet.py starnet_2 -v 1000 -ct 5.00` which will train your model displaying the progress every 1000 batch iterations and the model would be saved every 5 minutes. This same command will continue training the network if you already have the model saved in the [model directory](./models) from previous training iterations.\n",
    "\n",
    "### Option 1 b\n",
    "\n",
    "You can do this type of command line training using a GPU by first launching a gpu node within your command terminal:\n",
    "\n",
    "`salloc --time=03:00:00 --gres=gpu:1 --cpus-per-task=12 --account=def-sfabbro --mem=16000M`\n",
    "\n",
    "### Option 2\n",
    "\n",
    "Alternatively, if operating on compute-canada, you can use the `cc/launch_starnet.py` script to simultaneously create a new configuration file and launch a bunch of jobs to train your model. \n",
    "\n",
    "1. Change the [load modules file](./cc/module_loads.txt) to include the lines necessary to load your own environment with pytorch, etc. \n",
    "2. Then, to copy the [original configuration](./configs/starnet_1.ini), but use, say, a batch size of 64 spectra, you could use the command `python cc/launch_starnet.py starnet_2 -bs 64`. This will launch one 3-hour job on the GPU nodes to finish the training. You can checkout the other parameters that can be changed with the command `python cc/launch_starnet.py -h`.\n",
    "\n",
    "### Model Grid Search\n",
    "\n",
    "To launch a bunch of models and test a grid search of different configuration parameters, checkout the [gridsearch file](./cc/launch_starnet_gridsearch.py) for some ideas."
   ]
  },
  {
   "cell_type": "code",
   "execution_count": null,
   "id": "e42408be-4ad7-493d-b2f8-b17fe23b1d5a",
   "metadata": {},
   "outputs": [],
   "source": []
  }
 ],
 "metadata": {
  "kernelspec": {
   "display_name": "Python 3 (ipykernel)",
   "language": "python",
   "name": "python3"
  },
  "language_info": {
   "codemirror_mode": {
    "name": "ipython",
    "version": 3
   },
   "file_extension": ".py",
   "mimetype": "text/x-python",
   "name": "python",
   "nbconvert_exporter": "python",
   "pygments_lexer": "ipython3",
   "version": "3.10.12"
  }
 },
 "nbformat": 4,
 "nbformat_minor": 5
}
